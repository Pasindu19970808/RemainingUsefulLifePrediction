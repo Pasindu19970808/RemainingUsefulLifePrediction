{
  "nbformat": 4,
  "nbformat_minor": 0,
  "metadata": {
    "colab": {
      "provenance": [],
      "machine_shape": "hm",
      "gpuType": "A100",
      "mount_file_id": "1uENeeQYR1n9AeBkxlJCqiuwS1AMyPYwl",
      "authorship_tag": "ABX9TyOHhdWLTE3kKSezqtf1eSKK",
      "include_colab_link": true
    },
    "kernelspec": {
      "name": "python3",
      "display_name": "Python 3"
    },
    "language_info": {
      "name": "python"
    },
    "accelerator": "GPU"
  },
  "cells": [
    {
      "cell_type": "markdown",
      "metadata": {
        "id": "view-in-github",
        "colab_type": "text"
      },
      "source": [
        "<a href=\"https://colab.research.google.com/github/Pasindu19970808/RemainingUsefulLifePrediction/blob/main/RUL_Prediction.ipynb\" target=\"_parent\"><img src=\"https://colab.research.google.com/assets/colab-badge.svg\" alt=\"Open In Colab\"/></a>"
      ]
    },
    {
      "cell_type": "code",
      "execution_count": 1,
      "metadata": {
        "id": "BehQOTCjQ2Dl"
      },
      "outputs": [],
      "source": [
        "import pandas as pd\n",
        "import numpy as np\n",
        "import os\n",
        "import regex as re\n",
        "from pathlib import Path\n",
        "import time\n",
        "from sklearn.model_selection import train_test_split\n",
        "import matplotlib.pyplot as plt\n",
        "import seaborn as sns\n",
        "import torch\n",
        "from torch import nn\n",
        "from torch.utils.data import Dataset,DataLoader\n",
        "from sklearn.preprocessing import StandardScaler"
      ]
    },
    {
      "cell_type": "code",
      "source": [
        "# Device configuration\n",
        "device = torch.device('cuda' if torch.cuda.is_available() else 'cpu')"
      ],
      "metadata": {
        "id": "RE7HRHpgc0Oq"
      },
      "execution_count": 2,
      "outputs": []
    },
    {
      "cell_type": "code",
      "source": [
        "configs = {\n",
        "    'Data Path' : r'/content/drive/My Drive/Colab Notebooks/RUL Prediction/CMaps'\n",
        "}"
      ],
      "metadata": {
        "id": "1NkVgD-kRHbH"
      },
      "execution_count": 3,
      "outputs": []
    },
    {
      "cell_type": "code",
      "source": [
        "# re_rul = re.compile(r'RUL_FD(\\w+){3}\\.txt')\n",
        "# re_test = re.compile(r'test_FD(\\w+){3}\\.txt')\n",
        "# re_train = re.compile(r'train_FD(\\w+){3}\\.txt')\n",
        "re_rul = re.compile(r'RUL_FD001.txt')\n",
        "re_test = re.compile(r'test_FD001.txt')\n",
        "re_train = re.compile(r'train_FD001.txt')\n",
        "\n",
        "\n",
        "test_files = [i for i in Path(configs['Data Path']).iterdir() if re_test.match(i.name)]\n",
        "test_RUL = [i for i in Path(configs['Data Path']).iterdir() if re_rul.match(i.name)]\n",
        "train_files = [i for i in Path(configs['Data Path']).iterdir() if re_train.match(i.name)]"
      ],
      "metadata": {
        "id": "1PhkCwQCRJUi"
      },
      "execution_count": 4,
      "outputs": []
    },
    {
      "cell_type": "code",
      "source": [
        "def split_name(path):\n",
        "    file_name = path.stem\n",
        "    return file_name.split('_')[-1]\n",
        "\n",
        "def split_data_to_unit(data,col_names = None,cols_to_drop = None):\n",
        "  if cols_to_drop:\n",
        "    assert col_names != None,\"col_names cannot be None\"\n",
        "  for key,grp in data.groupby(0):\n",
        "      grp = grp.iloc[:,2:].dropna(axis = 1)\n",
        "      if cols_to_drop:\n",
        "        grp.columns = col_names\n",
        "        grp = grp.drop(cols_to_drop,axis = 1)\n",
        "      grp = grp.to_numpy()\n",
        "      yield (key,grp)\n",
        "\n",
        "def create_data_dictionary(files,col_names = None,cols_to_drop = None):\n",
        "    data_dictionary = {}\n",
        "    for file in files:\n",
        "        data = pd.read_csv(file,header = None,delimiter = ' ')\n",
        "        engine_name = split_name(file)\n",
        "        key_data = split_data_to_unit(data,col_names,cols_to_drop)\n",
        "        for key,data in key_data:\n",
        "            data_dictionary[f'{engine_name}_{key}'] = data\n",
        "    return data_dictionary\n",
        "\n",
        "def get_target_data(data_length):\n",
        "  return np.arange(data_length - 1,-1,-1)\n",
        "\n",
        "def get_unit_data_split(data,window_length,shift):\n",
        "  assert window_length <= data.shape[0],\"Window length larger than data length\"\n",
        "  data_length = data.shape[0]\n",
        "  target_data = get_target_data(data_length)\n",
        "  #make data into a batch,window_length,num_features shape matrix\n",
        "  num_batches = int(np.floor((data_length - window_length)/shift)) + 1\n",
        "  data_template = np.zeros(shape = (num_batches,window_length,data.shape[1]))\n",
        "  target_data_template = np.zeros(shape = (num_batches,1))\n",
        "  for batch in range(num_batches):\n",
        "    batch_data = data[batch*shift : (batch*shift) + (window_length),:]\n",
        "    data_template[batch,:,:] = batch_data\n",
        "    target_data_template[batch] = target_data[(batch*shift) + (window_length - 1)]\n",
        "  return data_template,target_data_template"
      ],
      "metadata": {
        "id": "QtXYL6GtRK4n"
      },
      "execution_count": 5,
      "outputs": []
    },
    {
      "cell_type": "code",
      "source": [
        "window_length = 25\n",
        "shift = 1\n",
        "concat_list = []\n",
        "concat_list_targets = []\n",
        "train_data = create_data_dictionary(train_files)\n",
        "for key,data in train_data.items():\n",
        "  x,y = get_unit_data_split(data,window_length,shift)\n",
        "  concat_list.append(x)\n",
        "  concat_list_targets.append(y)"
      ],
      "metadata": {
        "id": "c-hEvC_zZuc9"
      },
      "execution_count": 6,
      "outputs": []
    },
    {
      "cell_type": "code",
      "source": [
        "complete_ds = np.concatenate(concat_list,axis = 0)\n",
        "complete_ds_targets = np.concatenate(concat_list_targets,axis = 0)"
      ],
      "metadata": {
        "id": "QcbDo1CmlIZ3"
      },
      "execution_count": 7,
      "outputs": []
    },
    {
      "cell_type": "code",
      "source": [
        "complete_ds.shape"
      ],
      "metadata": {
        "colab": {
          "base_uri": "https://localhost:8080/"
        },
        "id": "DuQ7IwQaqRIo",
        "outputId": "fe275b61-b87b-4c9f-bbd0-237a0e09f810"
      },
      "execution_count": 8,
      "outputs": [
        {
          "output_type": "execute_result",
          "data": {
            "text/plain": [
              "(18231, 25, 24)"
            ]
          },
          "metadata": {},
          "execution_count": 8
        }
      ]
    },
    {
      "cell_type": "markdown",
      "source": [
        "Checking the distribution of attributes"
      ],
      "metadata": {
        "id": "rXwT6q7MTMNc"
      }
    },
    {
      "cell_type": "code",
      "source": [
        "complete_df = pd.DataFrame(np.reshape(complete_ds,newshape = (complete_ds.shape[0]*complete_ds.shape[1],complete_ds.shape[2])))\n",
        "complete_df.describe()"
      ],
      "metadata": {
        "colab": {
          "base_uri": "https://localhost:8080/",
          "height": 349
        },
        "id": "rBaoY2FvTJlF",
        "outputId": "f3426bfe-f40c-4e71-edb7-b8a2d33854f4"
      },
      "execution_count": 9,
      "outputs": [
        {
          "output_type": "execute_result",
          "data": {
            "text/plain": [
              "                  0              1         2             3              4   \\\n",
              "count  455775.000000  455775.000000  455775.0  4.557750e+05  455775.000000   \n",
              "mean       -0.000014       0.000003     100.0  5.186700e+02     642.645127   \n",
              "std         0.002187       0.000293       0.0  6.821218e-13       0.460672   \n",
              "min        -0.008700      -0.000600     100.0  5.186700e+02     641.210000   \n",
              "25%        -0.001500      -0.000200     100.0  5.186700e+02     642.320000   \n",
              "50%         0.000000       0.000000     100.0  5.186700e+02     642.630000   \n",
              "75%         0.001500       0.000300     100.0  5.186700e+02     642.950000   \n",
              "max         0.008700       0.000600     100.0  5.186700e+02     644.530000   \n",
              "\n",
              "                  5              6             7              8   \\\n",
              "count  455775.000000  455775.000000  4.557750e+05  455775.000000   \n",
              "mean     1590.104907    1408.226487  1.462000e+01      21.609810   \n",
              "std         5.671694       8.103050  3.552718e-15       0.001366   \n",
              "min      1571.040000    1382.250000  1.462000e+01      21.600000   \n",
              "25%      1586.200000    1402.330000  1.462000e+01      21.610000   \n",
              "50%      1589.900000    1407.710000  1.462000e+01      21.610000   \n",
              "75%      1593.780000    1413.550000  1.462000e+01      21.610000   \n",
              "max      1616.910000    1441.490000  1.462000e+01      21.610000   \n",
              "\n",
              "                  9   ...             14             15             16  \\\n",
              "count  455775.000000  ...  455775.000000  455775.000000  455775.000000   \n",
              "mean      553.434982  ...     521.470647    2388.091244    8142.893227   \n",
              "std         0.802413  ...       0.664990       0.066004      16.044579   \n",
              "min       549.850000  ...     518.690000    2387.880000    8099.940000   \n",
              "25%       552.900000  ...     521.030000    2388.040000    8133.620000   \n",
              "50%       553.470000  ...     521.500000    2388.090000    8140.600000   \n",
              "75%       554.010000  ...     521.960000    2388.130000    8148.100000   \n",
              "max       556.060000  ...     523.380000    2388.560000    8293.720000   \n",
              "\n",
              "                  17            18             19        20        21  \\\n",
              "count  455775.000000  4.557750e+05  455775.000000  455775.0  455775.0   \n",
              "mean        8.439276  3.000000e-02     393.100767    2388.0     100.0   \n",
              "std         0.034137  2.428616e-17       1.424208       0.0       0.0   \n",
              "min         8.324900  3.000000e-02     388.000000    2388.0     100.0   \n",
              "25%         8.414600  3.000000e-02     392.000000    2388.0     100.0   \n",
              "50%         8.437600  3.000000e-02     393.000000    2388.0     100.0   \n",
              "75%         8.461700  3.000000e-02     394.000000    2388.0     100.0   \n",
              "max         8.584800  3.000000e-02     400.000000    2388.0     100.0   \n",
              "\n",
              "                  22             23  \n",
              "count  455775.000000  455775.000000  \n",
              "mean       38.829357      23.297564  \n",
              "std         0.165126       0.098752  \n",
              "min        38.140000      22.894200  \n",
              "25%        38.720000      23.233200  \n",
              "50%        38.840000      23.301500  \n",
              "75%        38.950000      23.367200  \n",
              "max        39.430000      23.618400  \n",
              "\n",
              "[8 rows x 24 columns]"
            ],
            "text/html": [
              "\n",
              "  <div id=\"df-ef50c9df-bb56-4427-b037-48d4ceac9156\" class=\"colab-df-container\">\n",
              "    <div>\n",
              "<style scoped>\n",
              "    .dataframe tbody tr th:only-of-type {\n",
              "        vertical-align: middle;\n",
              "    }\n",
              "\n",
              "    .dataframe tbody tr th {\n",
              "        vertical-align: top;\n",
              "    }\n",
              "\n",
              "    .dataframe thead th {\n",
              "        text-align: right;\n",
              "    }\n",
              "</style>\n",
              "<table border=\"1\" class=\"dataframe\">\n",
              "  <thead>\n",
              "    <tr style=\"text-align: right;\">\n",
              "      <th></th>\n",
              "      <th>0</th>\n",
              "      <th>1</th>\n",
              "      <th>2</th>\n",
              "      <th>3</th>\n",
              "      <th>4</th>\n",
              "      <th>5</th>\n",
              "      <th>6</th>\n",
              "      <th>7</th>\n",
              "      <th>8</th>\n",
              "      <th>9</th>\n",
              "      <th>...</th>\n",
              "      <th>14</th>\n",
              "      <th>15</th>\n",
              "      <th>16</th>\n",
              "      <th>17</th>\n",
              "      <th>18</th>\n",
              "      <th>19</th>\n",
              "      <th>20</th>\n",
              "      <th>21</th>\n",
              "      <th>22</th>\n",
              "      <th>23</th>\n",
              "    </tr>\n",
              "  </thead>\n",
              "  <tbody>\n",
              "    <tr>\n",
              "      <th>count</th>\n",
              "      <td>455775.000000</td>\n",
              "      <td>455775.000000</td>\n",
              "      <td>455775.0</td>\n",
              "      <td>4.557750e+05</td>\n",
              "      <td>455775.000000</td>\n",
              "      <td>455775.000000</td>\n",
              "      <td>455775.000000</td>\n",
              "      <td>4.557750e+05</td>\n",
              "      <td>455775.000000</td>\n",
              "      <td>455775.000000</td>\n",
              "      <td>...</td>\n",
              "      <td>455775.000000</td>\n",
              "      <td>455775.000000</td>\n",
              "      <td>455775.000000</td>\n",
              "      <td>455775.000000</td>\n",
              "      <td>4.557750e+05</td>\n",
              "      <td>455775.000000</td>\n",
              "      <td>455775.0</td>\n",
              "      <td>455775.0</td>\n",
              "      <td>455775.000000</td>\n",
              "      <td>455775.000000</td>\n",
              "    </tr>\n",
              "    <tr>\n",
              "      <th>mean</th>\n",
              "      <td>-0.000014</td>\n",
              "      <td>0.000003</td>\n",
              "      <td>100.0</td>\n",
              "      <td>5.186700e+02</td>\n",
              "      <td>642.645127</td>\n",
              "      <td>1590.104907</td>\n",
              "      <td>1408.226487</td>\n",
              "      <td>1.462000e+01</td>\n",
              "      <td>21.609810</td>\n",
              "      <td>553.434982</td>\n",
              "      <td>...</td>\n",
              "      <td>521.470647</td>\n",
              "      <td>2388.091244</td>\n",
              "      <td>8142.893227</td>\n",
              "      <td>8.439276</td>\n",
              "      <td>3.000000e-02</td>\n",
              "      <td>393.100767</td>\n",
              "      <td>2388.0</td>\n",
              "      <td>100.0</td>\n",
              "      <td>38.829357</td>\n",
              "      <td>23.297564</td>\n",
              "    </tr>\n",
              "    <tr>\n",
              "      <th>std</th>\n",
              "      <td>0.002187</td>\n",
              "      <td>0.000293</td>\n",
              "      <td>0.0</td>\n",
              "      <td>6.821218e-13</td>\n",
              "      <td>0.460672</td>\n",
              "      <td>5.671694</td>\n",
              "      <td>8.103050</td>\n",
              "      <td>3.552718e-15</td>\n",
              "      <td>0.001366</td>\n",
              "      <td>0.802413</td>\n",
              "      <td>...</td>\n",
              "      <td>0.664990</td>\n",
              "      <td>0.066004</td>\n",
              "      <td>16.044579</td>\n",
              "      <td>0.034137</td>\n",
              "      <td>2.428616e-17</td>\n",
              "      <td>1.424208</td>\n",
              "      <td>0.0</td>\n",
              "      <td>0.0</td>\n",
              "      <td>0.165126</td>\n",
              "      <td>0.098752</td>\n",
              "    </tr>\n",
              "    <tr>\n",
              "      <th>min</th>\n",
              "      <td>-0.008700</td>\n",
              "      <td>-0.000600</td>\n",
              "      <td>100.0</td>\n",
              "      <td>5.186700e+02</td>\n",
              "      <td>641.210000</td>\n",
              "      <td>1571.040000</td>\n",
              "      <td>1382.250000</td>\n",
              "      <td>1.462000e+01</td>\n",
              "      <td>21.600000</td>\n",
              "      <td>549.850000</td>\n",
              "      <td>...</td>\n",
              "      <td>518.690000</td>\n",
              "      <td>2387.880000</td>\n",
              "      <td>8099.940000</td>\n",
              "      <td>8.324900</td>\n",
              "      <td>3.000000e-02</td>\n",
              "      <td>388.000000</td>\n",
              "      <td>2388.0</td>\n",
              "      <td>100.0</td>\n",
              "      <td>38.140000</td>\n",
              "      <td>22.894200</td>\n",
              "    </tr>\n",
              "    <tr>\n",
              "      <th>25%</th>\n",
              "      <td>-0.001500</td>\n",
              "      <td>-0.000200</td>\n",
              "      <td>100.0</td>\n",
              "      <td>5.186700e+02</td>\n",
              "      <td>642.320000</td>\n",
              "      <td>1586.200000</td>\n",
              "      <td>1402.330000</td>\n",
              "      <td>1.462000e+01</td>\n",
              "      <td>21.610000</td>\n",
              "      <td>552.900000</td>\n",
              "      <td>...</td>\n",
              "      <td>521.030000</td>\n",
              "      <td>2388.040000</td>\n",
              "      <td>8133.620000</td>\n",
              "      <td>8.414600</td>\n",
              "      <td>3.000000e-02</td>\n",
              "      <td>392.000000</td>\n",
              "      <td>2388.0</td>\n",
              "      <td>100.0</td>\n",
              "      <td>38.720000</td>\n",
              "      <td>23.233200</td>\n",
              "    </tr>\n",
              "    <tr>\n",
              "      <th>50%</th>\n",
              "      <td>0.000000</td>\n",
              "      <td>0.000000</td>\n",
              "      <td>100.0</td>\n",
              "      <td>5.186700e+02</td>\n",
              "      <td>642.630000</td>\n",
              "      <td>1589.900000</td>\n",
              "      <td>1407.710000</td>\n",
              "      <td>1.462000e+01</td>\n",
              "      <td>21.610000</td>\n",
              "      <td>553.470000</td>\n",
              "      <td>...</td>\n",
              "      <td>521.500000</td>\n",
              "      <td>2388.090000</td>\n",
              "      <td>8140.600000</td>\n",
              "      <td>8.437600</td>\n",
              "      <td>3.000000e-02</td>\n",
              "      <td>393.000000</td>\n",
              "      <td>2388.0</td>\n",
              "      <td>100.0</td>\n",
              "      <td>38.840000</td>\n",
              "      <td>23.301500</td>\n",
              "    </tr>\n",
              "    <tr>\n",
              "      <th>75%</th>\n",
              "      <td>0.001500</td>\n",
              "      <td>0.000300</td>\n",
              "      <td>100.0</td>\n",
              "      <td>5.186700e+02</td>\n",
              "      <td>642.950000</td>\n",
              "      <td>1593.780000</td>\n",
              "      <td>1413.550000</td>\n",
              "      <td>1.462000e+01</td>\n",
              "      <td>21.610000</td>\n",
              "      <td>554.010000</td>\n",
              "      <td>...</td>\n",
              "      <td>521.960000</td>\n",
              "      <td>2388.130000</td>\n",
              "      <td>8148.100000</td>\n",
              "      <td>8.461700</td>\n",
              "      <td>3.000000e-02</td>\n",
              "      <td>394.000000</td>\n",
              "      <td>2388.0</td>\n",
              "      <td>100.0</td>\n",
              "      <td>38.950000</td>\n",
              "      <td>23.367200</td>\n",
              "    </tr>\n",
              "    <tr>\n",
              "      <th>max</th>\n",
              "      <td>0.008700</td>\n",
              "      <td>0.000600</td>\n",
              "      <td>100.0</td>\n",
              "      <td>5.186700e+02</td>\n",
              "      <td>644.530000</td>\n",
              "      <td>1616.910000</td>\n",
              "      <td>1441.490000</td>\n",
              "      <td>1.462000e+01</td>\n",
              "      <td>21.610000</td>\n",
              "      <td>556.060000</td>\n",
              "      <td>...</td>\n",
              "      <td>523.380000</td>\n",
              "      <td>2388.560000</td>\n",
              "      <td>8293.720000</td>\n",
              "      <td>8.584800</td>\n",
              "      <td>3.000000e-02</td>\n",
              "      <td>400.000000</td>\n",
              "      <td>2388.0</td>\n",
              "      <td>100.0</td>\n",
              "      <td>39.430000</td>\n",
              "      <td>23.618400</td>\n",
              "    </tr>\n",
              "  </tbody>\n",
              "</table>\n",
              "<p>8 rows × 24 columns</p>\n",
              "</div>\n",
              "    <div class=\"colab-df-buttons\">\n",
              "\n",
              "  <div class=\"colab-df-container\">\n",
              "    <button class=\"colab-df-convert\" onclick=\"convertToInteractive('df-ef50c9df-bb56-4427-b037-48d4ceac9156')\"\n",
              "            title=\"Convert this dataframe to an interactive table.\"\n",
              "            style=\"display:none;\">\n",
              "\n",
              "  <svg xmlns=\"http://www.w3.org/2000/svg\" height=\"24px\" viewBox=\"0 -960 960 960\">\n",
              "    <path d=\"M120-120v-720h720v720H120Zm60-500h600v-160H180v160Zm220 220h160v-160H400v160Zm0 220h160v-160H400v160ZM180-400h160v-160H180v160Zm440 0h160v-160H620v160ZM180-180h160v-160H180v160Zm440 0h160v-160H620v160Z\"/>\n",
              "  </svg>\n",
              "    </button>\n",
              "\n",
              "  <style>\n",
              "    .colab-df-container {\n",
              "      display:flex;\n",
              "      gap: 12px;\n",
              "    }\n",
              "\n",
              "    .colab-df-convert {\n",
              "      background-color: #E8F0FE;\n",
              "      border: none;\n",
              "      border-radius: 50%;\n",
              "      cursor: pointer;\n",
              "      display: none;\n",
              "      fill: #1967D2;\n",
              "      height: 32px;\n",
              "      padding: 0 0 0 0;\n",
              "      width: 32px;\n",
              "    }\n",
              "\n",
              "    .colab-df-convert:hover {\n",
              "      background-color: #E2EBFA;\n",
              "      box-shadow: 0px 1px 2px rgba(60, 64, 67, 0.3), 0px 1px 3px 1px rgba(60, 64, 67, 0.15);\n",
              "      fill: #174EA6;\n",
              "    }\n",
              "\n",
              "    .colab-df-buttons div {\n",
              "      margin-bottom: 4px;\n",
              "    }\n",
              "\n",
              "    [theme=dark] .colab-df-convert {\n",
              "      background-color: #3B4455;\n",
              "      fill: #D2E3FC;\n",
              "    }\n",
              "\n",
              "    [theme=dark] .colab-df-convert:hover {\n",
              "      background-color: #434B5C;\n",
              "      box-shadow: 0px 1px 3px 1px rgba(0, 0, 0, 0.15);\n",
              "      filter: drop-shadow(0px 1px 2px rgba(0, 0, 0, 0.3));\n",
              "      fill: #FFFFFF;\n",
              "    }\n",
              "  </style>\n",
              "\n",
              "    <script>\n",
              "      const buttonEl =\n",
              "        document.querySelector('#df-ef50c9df-bb56-4427-b037-48d4ceac9156 button.colab-df-convert');\n",
              "      buttonEl.style.display =\n",
              "        google.colab.kernel.accessAllowed ? 'block' : 'none';\n",
              "\n",
              "      async function convertToInteractive(key) {\n",
              "        const element = document.querySelector('#df-ef50c9df-bb56-4427-b037-48d4ceac9156');\n",
              "        const dataTable =\n",
              "          await google.colab.kernel.invokeFunction('convertToInteractive',\n",
              "                                                    [key], {});\n",
              "        if (!dataTable) return;\n",
              "\n",
              "        const docLinkHtml = 'Like what you see? Visit the ' +\n",
              "          '<a target=\"_blank\" href=https://colab.research.google.com/notebooks/data_table.ipynb>data table notebook</a>'\n",
              "          + ' to learn more about interactive tables.';\n",
              "        element.innerHTML = '';\n",
              "        dataTable['output_type'] = 'display_data';\n",
              "        await google.colab.output.renderOutput(dataTable, element);\n",
              "        const docLink = document.createElement('div');\n",
              "        docLink.innerHTML = docLinkHtml;\n",
              "        element.appendChild(docLink);\n",
              "      }\n",
              "    </script>\n",
              "  </div>\n",
              "\n",
              "\n",
              "<div id=\"df-4cacae53-06e5-4285-b03c-99dec1b5d682\">\n",
              "  <button class=\"colab-df-quickchart\" onclick=\"quickchart('df-4cacae53-06e5-4285-b03c-99dec1b5d682')\"\n",
              "            title=\"Suggest charts\"\n",
              "            style=\"display:none;\">\n",
              "\n",
              "<svg xmlns=\"http://www.w3.org/2000/svg\" height=\"24px\"viewBox=\"0 0 24 24\"\n",
              "     width=\"24px\">\n",
              "    <g>\n",
              "        <path d=\"M19 3H5c-1.1 0-2 .9-2 2v14c0 1.1.9 2 2 2h14c1.1 0 2-.9 2-2V5c0-1.1-.9-2-2-2zM9 17H7v-7h2v7zm4 0h-2V7h2v10zm4 0h-2v-4h2v4z\"/>\n",
              "    </g>\n",
              "</svg>\n",
              "  </button>\n",
              "\n",
              "<style>\n",
              "  .colab-df-quickchart {\n",
              "      --bg-color: #E8F0FE;\n",
              "      --fill-color: #1967D2;\n",
              "      --hover-bg-color: #E2EBFA;\n",
              "      --hover-fill-color: #174EA6;\n",
              "      --disabled-fill-color: #AAA;\n",
              "      --disabled-bg-color: #DDD;\n",
              "  }\n",
              "\n",
              "  [theme=dark] .colab-df-quickchart {\n",
              "      --bg-color: #3B4455;\n",
              "      --fill-color: #D2E3FC;\n",
              "      --hover-bg-color: #434B5C;\n",
              "      --hover-fill-color: #FFFFFF;\n",
              "      --disabled-bg-color: #3B4455;\n",
              "      --disabled-fill-color: #666;\n",
              "  }\n",
              "\n",
              "  .colab-df-quickchart {\n",
              "    background-color: var(--bg-color);\n",
              "    border: none;\n",
              "    border-radius: 50%;\n",
              "    cursor: pointer;\n",
              "    display: none;\n",
              "    fill: var(--fill-color);\n",
              "    height: 32px;\n",
              "    padding: 0;\n",
              "    width: 32px;\n",
              "  }\n",
              "\n",
              "  .colab-df-quickchart:hover {\n",
              "    background-color: var(--hover-bg-color);\n",
              "    box-shadow: 0 1px 2px rgba(60, 64, 67, 0.3), 0 1px 3px 1px rgba(60, 64, 67, 0.15);\n",
              "    fill: var(--button-hover-fill-color);\n",
              "  }\n",
              "\n",
              "  .colab-df-quickchart-complete:disabled,\n",
              "  .colab-df-quickchart-complete:disabled:hover {\n",
              "    background-color: var(--disabled-bg-color);\n",
              "    fill: var(--disabled-fill-color);\n",
              "    box-shadow: none;\n",
              "  }\n",
              "\n",
              "  .colab-df-spinner {\n",
              "    border: 2px solid var(--fill-color);\n",
              "    border-color: transparent;\n",
              "    border-bottom-color: var(--fill-color);\n",
              "    animation:\n",
              "      spin 1s steps(1) infinite;\n",
              "  }\n",
              "\n",
              "  @keyframes spin {\n",
              "    0% {\n",
              "      border-color: transparent;\n",
              "      border-bottom-color: var(--fill-color);\n",
              "      border-left-color: var(--fill-color);\n",
              "    }\n",
              "    20% {\n",
              "      border-color: transparent;\n",
              "      border-left-color: var(--fill-color);\n",
              "      border-top-color: var(--fill-color);\n",
              "    }\n",
              "    30% {\n",
              "      border-color: transparent;\n",
              "      border-left-color: var(--fill-color);\n",
              "      border-top-color: var(--fill-color);\n",
              "      border-right-color: var(--fill-color);\n",
              "    }\n",
              "    40% {\n",
              "      border-color: transparent;\n",
              "      border-right-color: var(--fill-color);\n",
              "      border-top-color: var(--fill-color);\n",
              "    }\n",
              "    60% {\n",
              "      border-color: transparent;\n",
              "      border-right-color: var(--fill-color);\n",
              "    }\n",
              "    80% {\n",
              "      border-color: transparent;\n",
              "      border-right-color: var(--fill-color);\n",
              "      border-bottom-color: var(--fill-color);\n",
              "    }\n",
              "    90% {\n",
              "      border-color: transparent;\n",
              "      border-bottom-color: var(--fill-color);\n",
              "    }\n",
              "  }\n",
              "</style>\n",
              "\n",
              "  <script>\n",
              "    async function quickchart(key) {\n",
              "      const quickchartButtonEl =\n",
              "        document.querySelector('#' + key + ' button');\n",
              "      quickchartButtonEl.disabled = true;  // To prevent multiple clicks.\n",
              "      quickchartButtonEl.classList.add('colab-df-spinner');\n",
              "      try {\n",
              "        const charts = await google.colab.kernel.invokeFunction(\n",
              "            'suggestCharts', [key], {});\n",
              "      } catch (error) {\n",
              "        console.error('Error during call to suggestCharts:', error);\n",
              "      }\n",
              "      quickchartButtonEl.classList.remove('colab-df-spinner');\n",
              "      quickchartButtonEl.classList.add('colab-df-quickchart-complete');\n",
              "    }\n",
              "    (() => {\n",
              "      let quickchartButtonEl =\n",
              "        document.querySelector('#df-4cacae53-06e5-4285-b03c-99dec1b5d682 button');\n",
              "      quickchartButtonEl.style.display =\n",
              "        google.colab.kernel.accessAllowed ? 'block' : 'none';\n",
              "    })();\n",
              "  </script>\n",
              "</div>\n",
              "    </div>\n",
              "  </div>\n"
            ]
          },
          "metadata": {},
          "execution_count": 9
        }
      ]
    },
    {
      "cell_type": "code",
      "source": [
        "fig,ax = plt.subplots(1,1,figsize = (20,8))\n",
        "ax.bar(x = complete_df.columns.tolist(),height = complete_df.describe().iloc[2,:].tolist(),tick_label = complete_df.columns.tolist())\n",
        "# sns.barplot()\n"
      ],
      "metadata": {
        "colab": {
          "base_uri": "https://localhost:8080/",
          "height": 597
        },
        "id": "H4QoXbAtVuVt",
        "outputId": "20338fa1-4945-479d-99e4-e78d87c69bd3"
      },
      "execution_count": 10,
      "outputs": [
        {
          "output_type": "execute_result",
          "data": {
            "text/plain": [
              "<BarContainer object of 24 artists>"
            ]
          },
          "metadata": {},
          "execution_count": 10
        },
        {
          "output_type": "display_data",
          "data": {
            "text/plain": [
              "<Figure size 2000x800 with 1 Axes>"
            ],
            "image/png": "[encoded data removed]"
          },
          "metadata": {}
        }
      ]
    },
    {
      "cell_type": "markdown",
      "source": [
        "Removing unnecessary attributes"
      ],
      "metadata": {
        "id": "0QTwYvPfjh7l"
      }
    },
    {
      "cell_type": "code",
      "source": [
        "col_names = ['op1','op2','op3','s1','s2','s3','s4','s5','s6','s7','s8','s9','s10','s11','s12','s13',\\\n",
        "             's14','s15','s16','s17','s18','s19','s20','s21']\n",
        "col_idx = [0,1,2,3,7,8,12,18,20,21]\n",
        "cols_to_drop = [col_names[i] for i in col_idx]"
      ],
      "metadata": {
        "id": "j4Arh_P6iTiv"
      },
      "execution_count": 11,
      "outputs": []
    },
    {
      "cell_type": "markdown",
      "source": [
        "Split dataset to train validation splits"
      ],
      "metadata": {
        "id": "AVobFVZsPgcQ"
      }
    },
    {
      "cell_type": "code",
      "source": [
        "window_length = 25\n",
        "shift = 1\n",
        "concat_list = []\n",
        "concat_list_targets = []\n",
        "train_data = create_data_dictionary(train_files,col_names,cols_to_drop)\n",
        "for key,data in train_data.items():\n",
        "  x,y = get_unit_data_split(data,window_length,shift)\n",
        "  concat_list.append(x)\n",
        "  concat_list_targets.append(y)"
      ],
      "metadata": {
        "id": "wp-_5XczmgEM"
      },
      "execution_count": 12,
      "outputs": []
    },
    {
      "cell_type": "code",
      "source": [
        "complete_ds_before_scaling = np.concatenate(concat_list,axis = 0)\n",
        "complete_ds_targets = np.concatenate(concat_list_targets)"
      ],
      "metadata": {
        "id": "Abtd3wJgjkUH"
      },
      "execution_count": 13,
      "outputs": []
    },
    {
      "cell_type": "code",
      "source": [
        "complete_ds_before_scaling.shape"
      ],
      "metadata": {
        "colab": {
          "base_uri": "https://localhost:8080/"
        },
        "id": "_nJMZX0WqIdu",
        "outputId": "80ee5c50-c419-458e-8f85-135c0428d441"
      },
      "execution_count": 14,
      "outputs": [
        {
          "output_type": "execute_result",
          "data": {
            "text/plain": [
              "(18231, 25, 14)"
            ]
          },
          "metadata": {},
          "execution_count": 14
        }
      ]
    },
    {
      "cell_type": "markdown",
      "source": [
        "Scaling the data"
      ],
      "metadata": {
        "id": "Dka1jJtTzyOE"
      }
    },
    {
      "cell_type": "code",
      "source": [
        "scaling_complete_ds = np.reshape(complete_ds_before_scaling,newshape = (complete_ds_before_scaling.shape[0]*complete_ds_before_scaling.shape[1],-1))\n",
        "scaler = StandardScaler()\n",
        "scaling_complete_ds = scaler.fit_transform(scaling_complete_ds)\n",
        "complete_ds = np.reshape(scaling_complete_ds,newshape = (complete_ds_before_scaling.shape[0],\n",
        "                                                         complete_ds_before_scaling.shape[1],\n",
        "                                                         complete_ds_before_scaling.shape[2]))"
      ],
      "metadata": {
        "id": "3VfgHbATz0b9"
      },
      "execution_count": 15,
      "outputs": []
    },
    {
      "cell_type": "markdown",
      "source": [
        "Splitting to Training and Validation"
      ],
      "metadata": {
        "id": "-UZN7_4s69fF"
      }
    },
    {
      "cell_type": "code",
      "source": [
        "total_indexes = np.arange(0,complete_ds.shape[0],1)\n",
        "train_X_idx,val_X_idx = train_test_split(total_indexes,test_size = 0.2,random_state = 42,shuffle = True)"
      ],
      "metadata": {
        "id": "862VWxAfPfRq"
      },
      "execution_count": 16,
      "outputs": []
    },
    {
      "cell_type": "code",
      "source": [
        "train_X = complete_ds[train_X_idx,:,:]\n",
        "train_Y = complete_ds_targets[train_X_idx]\n",
        "\n",
        "val_X = complete_ds[val_X_idx,:,:]\n",
        "val_Y = complete_ds_targets[val_X_idx]"
      ],
      "metadata": {
        "id": "CSvCsg6lYo4M"
      },
      "execution_count": 17,
      "outputs": []
    },
    {
      "cell_type": "code",
      "source": [
        "class EngineDataset(Dataset):\n",
        "  def __init__(self,X,y):\n",
        "    self.X = X\n",
        "    self.y = y\n",
        "  def __len__(self):\n",
        "    return len(self.X)\n",
        "  def __getitem__(self,index):\n",
        "    x = self.X[index,:,:]\n",
        "    #https://discuss.pytorch.org/t/runtimeerror-input-and-hidden-tensors-are-not-the-same-dtype-found-input-tensor-with-double-and-hidden-tensor-with-float/139087/2\n",
        "    x = torch.from_numpy(x).float()\n",
        "    y = self.y[index]\n",
        "    return x,y"
      ],
      "metadata": {
        "id": "HDQDzIZXRnpX"
      },
      "execution_count": 31,
      "outputs": []
    },
    {
      "cell_type": "code",
      "source": [
        "train_dataset = EngineDataset(train_X,train_Y)\n",
        "val_dataset = EngineDataset(val_X,val_Y)"
      ],
      "metadata": {
        "id": "cAE_75icYn2W"
      },
      "execution_count": 32,
      "outputs": []
    },
    {
      "cell_type": "code",
      "source": [
        "train_dataloader = DataLoader(train_dataset,batch_size = 4,shuffle = True)\n",
        "val_dataloader = DataLoader(train_dataset,batch_size = 4,shuffle = True)"
      ],
      "metadata": {
        "id": "4eP7vg8Ekzhg"
      },
      "execution_count": 33,
      "outputs": []
    },
    {
      "cell_type": "code",
      "source": [
        "complete_ds.shape"
      ],
      "metadata": {
        "colab": {
          "base_uri": "https://localhost:8080/"
        },
        "id": "NagWyw117ZDD",
        "outputId": "7e7fc72c-72a3-4a2a-9bb6-d72574733edd"
      },
      "execution_count": 34,
      "outputs": [
        {
          "output_type": "execute_result",
          "data": {
            "text/plain": [
              "(18231, 25, 14)"
            ]
          },
          "metadata": {},
          "execution_count": 34
        }
      ]
    },
    {
      "cell_type": "markdown",
      "source": [
        "Model Architeture 1:\n",
        "\n",
        "BiLSTM"
      ],
      "metadata": {
        "id": "txPkqDhXsIuj"
      }
    },
    {
      "cell_type": "code",
      "source": [
        "class modelBiLSTM(nn.Module):\n",
        "  def __init__(self,input_size,hidden_size,dropout = 0.5):\n",
        "    super(modelBiLSTM,self).__init__()\n",
        "    #In bidirectional LSTM the output hidden_states h_n(second item in tupled)\n",
        "    #contains the final hidden state from both directions for each item in batch\n",
        "    self.lstm = nn.LSTM(input_size = input_size,\n",
        "                        hidden_size = hidden_size,\n",
        "                        batch_first = True,\n",
        "                        bidirectional = True)\n",
        "    self.bnorm1 = nn.BatchNorm1d(hidden_size*2)\n",
        "    self.linear1 = nn.Linear(in_features = hidden_size*2,out_features = hidden_size)\n",
        "    self.bn2 = nn.BatchNorm1d(hidden_size)\n",
        "    self.drop = nn.Dropout(dropout)\n",
        "    self.linear2 = nn.Linear(in_features = hidden_size,out_features = 1)\n",
        "  def forward(self,X):\n",
        "    x = self.lstm(X)\n",
        "    #combines the final forward and backward hidden states\n",
        "    x = torch.concat((x[1][0][0,:,:],x[1][0][1,:,:]),axis = 1)\n",
        "    x = self.bnorm1(x)\n",
        "    x = self.linear1(x)\n",
        "    x = self.bn2(x)\n",
        "    x = self.drop(x)\n",
        "    x = self.linear2(x)\n",
        "    return x"
      ],
      "metadata": {
        "id": "PZtvmKJilzQJ"
      },
      "execution_count": 75,
      "outputs": []
    },
    {
      "cell_type": "code",
      "source": [
        "#put this in a train function\n",
        "#shape of data = [N,25,14]\n",
        "#https://github.com/pytorch/examples/blob/2639cf050493df9d3cbf065d45e6025733add0f4/imagenet/main.py#L268\n",
        "def validate(model,val_dataloader,criterion):\n",
        "  model.eval()\n",
        "  val_loss = []\n",
        "  with torch.no_grad():\n",
        "    for i,j in enumerate(val_dataloader):\n",
        "      X = j[0].to(device)\n",
        "      true_rul = j[1].to(device)\n",
        "\n",
        "      pred_rul = model(X)\n",
        "      loss = criterion(pred_rul,true_rul)\n",
        "\n",
        "      val_loss.append(loss.item())\n",
        "  average_loss  = np.array(val_loss).mean()\n",
        "  return average_loss,model\n",
        "\n",
        "def train(model,epoch_number,train_dataloader,val_dataloader,optimizer,criterion):\n",
        "  epoch_loss = []\n",
        "  val_loss = []\n",
        "  for epoch in range(epoch):\n",
        "    model.train()\n",
        "    batch_loss = []\n",
        "    for i,j in enumerate(train_dataloader):\n",
        "      X = j[0].to(device)\n",
        "      true_rul = j[1].to(device)\n",
        "      optimizer.zero_grad()\n",
        "\n",
        "      pred_rul = model(X)\n",
        "      loss = criterion(pred_rul,true_rul)\n",
        "\n",
        "      loss.backward()\n",
        "      optimizer.step()\n",
        "\n",
        "      batch_loss.append(loss.item())\n",
        "    epoch_loss.append(np.array(batch_loss).mean())\n",
        "    val_loss,model = validate(model,val_dataloader,criterion)\n",
        "  return model,epoch_loss,val_loss"
      ],
      "metadata": {
        "id": "p6-gcyu5l3-S"
      },
      "execution_count": 67,
      "outputs": []
    },
    {
      "cell_type": "markdown",
      "source": [
        "Trying for 10 epochs with LR = 1E-3 as first attempt"
      ],
      "metadata": {
        "id": "OwZ7tVQbSfWO"
      }
    },
    {
      "cell_type": "code",
      "source": [
        "epoch_number = 10\n",
        "model = modelBiLSTM(14,7).to(device)\n",
        "optimizer = torch.optim.Adam(model.parameter(),lr = 0.001)\n",
        "criterion = nn.MSELoss()\n",
        "model,epoch_loss,val_loss = train(model,epoch_number,train_dataloader,val_dataloader,optimizer,criterion)"
      ],
      "metadata": {
        "id": "6P03qcUfAJr2"
      },
      "execution_count": null,
      "outputs": []
    }
  ]
}